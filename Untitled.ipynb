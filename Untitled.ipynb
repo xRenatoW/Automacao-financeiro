# Importação das bibliotecas necessárias
import yfinance as yf
import pyautogui
import pyperclip
from tkinter import *
from datetime import datetime

# Solicita ao usuário o código da ação
ticker = input("Digite o código da ação: ")

# Coleta dados de histórico de preços da ação nos últimos 6 meses
dados = yf.Ticker(ticker)
tabela = dados.history("6mo")
fechamento = tabela["Close"]

# Plota o gráfico de fechamento dos preços
fechamento.plot()

# Calcula e exibe a cotação máxima, mínima e atual
maxima = round(fechamento.max(), 2)
minima = round(fechamento.min(), 2)
atual = round(fechamento[-1], 2)

print(f"Cotação máxima: R${maxima}")
print(f"Cotação mínima: R${minima}")
print(f"Cotação atual: R${atual}")

# Define o destinatário, assunto e mensagem do email
destinatario = "renato.x33@gmail.com"
assunto = "Análise diária"

mensagem = f"""
Prezado Gestor,

Estamos enviando esta mensagem para informar a cotação diária da {ticker}, uma das empresas mais importantes do setor de petróleo e gás no Brasil.

A cotação máxima da Petrobras hoje foi de R${round(maxima,2)}, enquanto a cotação mínima foi de R${round(minima,2)}. No momento, a cotação atual é de R${round(atual,2)}. Essas informações foram coletadas às {datetime.now().strftime('%H:%M:%S')} horas de hoje.

Acompanhar a cotação diária da Petrobras é fundamental para tomar decisões estratégicas no momento certo e entender como ela afeta o mercado financeiro como um todo. Por isso, é importante que estejamos sempre atentos às movimentações da empresa.

Caso tenha alguma dúvida ou queira discutir mais a fundo o impacto da cotação da Petrobras em nossa empresa, não hesite em entrar em contato conosco.

Atenciosamente,

Renato Firmino
"""

# Configura uma pausa de 2 segundos entre ações
pyautogui.PAUSE = 2

# Abre uma nova aba no navegador
pyautogui.hotkey("ctrl", "t")

# Abre o Gmail
pyperclip.copy("www.gmail.com")
pyautogui.hotkey("ctrl", "v")
pyautogui.press("enter")

# Clica no botão "Escrever" no Gmail
pyautogui.click(x=164, y=218)

# Preenche o destinatário, assunto e mensagem do email
pyperclip.copy(destinatário)
pyautogui.hotkey("ctrl", "v")
pyautogui.press("tab")

pyperclip.copy(assunto)
pyautogui.hotkey("ctrl", "v")
pyautogui.press("tab")

pyperclip.copy(mensagem)
pyautogui.hotkey("ctrl", "v")

# Clica no botão "Enviar" do email
pyautogui.click(x=865, y=984)
